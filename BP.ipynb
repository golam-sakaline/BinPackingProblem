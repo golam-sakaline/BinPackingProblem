{
 "cells": [
  {
   "cell_type": "code",
   "execution_count": 16,
   "metadata": {},
   "outputs": [
    {
     "data": {
      "text/html": [
       "<div>\n",
       "<style scoped>\n",
       "    .dataframe tbody tr th:only-of-type {\n",
       "        vertical-align: middle;\n",
       "    }\n",
       "\n",
       "    .dataframe tbody tr th {\n",
       "        vertical-align: top;\n",
       "    }\n",
       "\n",
       "    .dataframe thead th {\n",
       "        text-align: right;\n",
       "    }\n",
       "</style>\n",
       "<table border=\"1\" class=\"dataframe\">\n",
       "  <thead>\n",
       "    <tr style=\"text-align: right;\">\n",
       "      <th></th>\n",
       "      <th>instance_name</th>\n",
       "      <th>c</th>\n",
       "      <th>w</th>\n",
       "      <th>n</th>\n",
       "      <th>wmin</th>\n",
       "      <th>wmax</th>\n",
       "      <th>lb</th>\n",
       "    </tr>\n",
       "  </thead>\n",
       "  <tbody>\n",
       "    <tr>\n",
       "      <th>0</th>\n",
       "      <td>Morning:6-7</td>\n",
       "      <td>100</td>\n",
       "      <td>[68, 53, 52, 35, 43, 65, 75, 42, 62, 32]</td>\n",
       "      <td>10</td>\n",
       "      <td>32</td>\n",
       "      <td>75</td>\n",
       "      <td>6</td>\n",
       "    </tr>\n",
       "    <tr>\n",
       "      <th>1</th>\n",
       "      <td>7-8</td>\n",
       "      <td>200</td>\n",
       "      <td>[95, 74, 73, 72, 66, 50, 125, 144, 139, 30, 11...</td>\n",
       "      <td>20</td>\n",
       "      <td>30</td>\n",
       "      <td>144</td>\n",
       "      <td>9</td>\n",
       "    </tr>\n",
       "    <tr>\n",
       "      <th>2</th>\n",
       "      <td>8-9</td>\n",
       "      <td>250</td>\n",
       "      <td>[98, 98, 98, 96, 96, 94, 93, 93, 92, 91, 91, 9...</td>\n",
       "      <td>30</td>\n",
       "      <td>83</td>\n",
       "      <td>115</td>\n",
       "      <td>11</td>\n",
       "    </tr>\n",
       "    <tr>\n",
       "      <th>3</th>\n",
       "      <td>9-10</td>\n",
       "      <td>300</td>\n",
       "      <td>[194, 193, 192, 90, 188, 87, 184, 80, 179, 76,...</td>\n",
       "      <td>30</td>\n",
       "      <td>56</td>\n",
       "      <td>240</td>\n",
       "      <td>15</td>\n",
       "    </tr>\n",
       "  </tbody>\n",
       "</table>\n",
       "</div>"
      ],
      "text/plain": [
       "  instance_name    c                                                  w   n  \\\n",
       "0   Morning:6-7  100           [68, 53, 52, 35, 43, 65, 75, 42, 62, 32]  10   \n",
       "1           7-8  200  [95, 74, 73, 72, 66, 50, 125, 144, 139, 30, 11...  20   \n",
       "2           8-9  250  [98, 98, 98, 96, 96, 94, 93, 93, 92, 91, 91, 9...  30   \n",
       "3          9-10  300  [194, 193, 192, 90, 188, 87, 184, 80, 179, 76,...  30   \n",
       "\n",
       "   wmin  wmax  lb  \n",
       "0    32    75   6  \n",
       "1    30   144   9  \n",
       "2    83   115  11  \n",
       "3    56   240  15  "
      ]
     },
     "metadata": {},
     "output_type": "display_data"
    }
   ],
   "source": [
    "import pandas as pd\n",
    "import numpy as np\n",
    "from gurobipy import *\n",
    "\n",
    "bpp_data_set = [\n",
    "    {'instance_name': 'Morning:6-7','c':  100, 'w': [68, 53, 52, 35, 43, 65, 75, 42, 62, 32]},\n",
    "    {'instance_name': '7-8',        'c':  200, 'w': [95, 74, 73, 72, 66, 50, 125, 144, 139, 30, 119, 114, 70, 95, 72, 120, 136,67,45,55]},\n",
    "    {'instance_name': '8-9',        'c':  250, 'w': [98, 98, 98, 96, 96, 94, 93, 93, 92, 91, 91, 90, 87, 86, 85, 85, 84, 84, 84, 84, 84, 83,115,88,85,88,91,93,95,110]},\n",
    "    {'instance_name': '9-10',       'c':  300, 'w': [194, 193, 192, 90, 188, 87, 184, 80, 179, 76, 74, 72, 77, 157, 162, 158, 156, 56, 153, 150, 147, 140, 140,180,175,134,122,120,230,240]},\n",
    "];\n",
    "\n",
    "def lb(c, w):\n",
    "    return int(math.ceil(sum(w) / c))\n",
    "\n",
    "df = pd.DataFrame(bpp_data_set, columns=['instance_name', 'c', 'w'])\n",
    "df['n'] = df['w'].apply(len)\n",
    "df['wmin'] = df['w'].apply(min)\n",
    "df['wmax'] = df['w'].apply(max)\n",
    "df['lb'] = df.apply(lambda x: lb(x['c'], x['w']), axis=1)\n",
    "display(df)"
   ]
  },
  {
   "cell_type": "code",
   "execution_count": 17,
   "metadata": {},
   "outputs": [],
   "source": [
    "def model_bpp(c, w, UB=None, bin_for_item=None, LogToConsole=True, TimeLimit=30):\n",
    "    n = len(w)\n",
    "    LB = lb(c, w)\n",
    "    if UB == None:\n",
    "        UB = n\n",
    "    if LogToConsole:\n",
    "        print('c =', c, '| n =', n, '| LB =', LB, '| UB =', UB)\n",
    "    model = Model()\n",
    "    model.params.LogToConsole = LogToConsole\n",
    "    model.params.TimeLimit = TimeLimit # seconds\n",
    "    x = model.addVars(n, UB, vtype=GRB.BINARY)\n",
    "    y = model.addVars(UB, vtype=GRB.BINARY)\n",
    "    model.setObjective(quicksum(y[j] for j in range(UB)), GRB.MINIMIZE) # minimize the number of bins used\n",
    "    model.addConstrs(quicksum(x[i,j] for j in range(UB)) == 1 for i in range(n)) # each item in exactly one bin\n",
    "    model.addConstrs(quicksum(w[i] * x[i,j] for i in range(n)) <= c * y[j] for j in range(UB))\n",
    "                                                                  # limit total weight in each bin; also, link $x_{ij}$ with $y_j$\n",
    "    if bin_for_item != None:\n",
    "        for i in range(n):\n",
    "            x[i, bin_for_item[i]].start = 1\n",
    "    model.optimize()\n",
    "    bin_for_item = [-1 for i in range(n)]\n",
    "    for i in range(n):\n",
    "        for j in range(UB):\n",
    "            if x[i,j].X > 0.5:\n",
    "                bin_for_item[i] = j\n",
    "    return model.ObjVal, model.ObjBound, bin_for_item"
   ]
  },
  {
   "cell_type": "code",
   "execution_count": 18,
   "metadata": {},
   "outputs": [],
   "source": [
    "def heur_FFD(c, w): # first-fit-decreasing heuristic\n",
    "    n = len(w)\n",
    "    order = sorted([i for i in range(n)], key=lambda i: w[i], reverse=True) # sort by decreasing weights\n",
    "    bin_for_item = [-1 for i in range(n)]\n",
    "    bin_space = []\n",
    "    for i in order:\n",
    "        for j in range(len(bin_space)): # pack in the first bin in which the item fits\n",
    "            if w[i] <= bin_space[j]:\n",
    "                bin_for_item[i] = j\n",
    "                bin_space[j] -= w[i]\n",
    "                break\n",
    "        if bin_for_item[i] < 0: # if no bin can accomodate the item, open a new bin\n",
    "            j = len(bin_space)\n",
    "            bin_for_item[i] = j\n",
    "            bin_space.append(c - w[i])\n",
    "    n_bins = len(bin_space)\n",
    "    return n_bins, bin_for_item"
   ]
  },
  {
   "cell_type": "code",
   "execution_count": 19,
   "metadata": {},
   "outputs": [
    {
     "name": "stdout",
     "output_type": "stream",
     "text": [
      "0 6.0 6.0 0.010004520416259766\n",
      "1 10.0 10.0 0.06301474571228027\n",
      "2 15.0 15.0 0.05401420593261719\n",
      "3 16.0 16.0 0.06201457977294922\n"
     ]
    }
   ],
   "source": [
    "from time import time\n",
    "\n",
    "for idx, bpp_data in enumerate(bpp_data_set):\n",
    "    t_start = time()\n",
    "    c, w = bpp_data['c'], bpp_data['w']\n",
    "    n_bins, bin_for_item = heur_FFD(c, w)\n",
    "    n_bins, n_bins_lb, bin_for_item = model_bpp(c, w, n_bins, bin_for_item, LogToConsole=False, TimeLimit=10)\n",
    "    t_end = time()\n",
    "    print(idx, n_bins, n_bins_lb, t_end - t_start)"
   ]
  },
  {
   "cell_type": "code",
   "execution_count": 20,
   "metadata": {},
   "outputs": [
    {
     "name": "stdout",
     "output_type": "stream",
     "text": [
      "0 6.0 6.0\n",
      "1 10.0 10.0\n",
      "2 15.0 15.0\n",
      "3 16.0 16.0\n"
     ]
    }
   ],
   "source": [
    "for idx, bpp_data in enumerate(bpp_data_set):\n",
    "    c, w = bpp_data['c'], bpp_data['w']\n",
    "    n_bins, n_bins_lb, bin_for_item = model_bpp(c, w, LogToConsole=False, TimeLimit=5)\n",
    "    print(idx, n_bins, n_bins_lb)"
   ]
  },
  {
   "cell_type": "code",
   "execution_count": null,
   "metadata": {},
   "outputs": [],
   "source": []
  }
 ],
 "metadata": {
  "kernelspec": {
   "display_name": "Python 3",
   "language": "python",
   "name": "python3"
  },
  "language_info": {
   "codemirror_mode": {
    "name": "ipython",
    "version": 3
   },
   "file_extension": ".py",
   "mimetype": "text/x-python",
   "name": "python",
   "nbconvert_exporter": "python",
   "pygments_lexer": "ipython3",
   "version": "3.8.5"
  }
 },
 "nbformat": 4,
 "nbformat_minor": 4
}
