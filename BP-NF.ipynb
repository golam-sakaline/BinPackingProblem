{
 "cells": [
  {
   "cell_type": "code",
   "execution_count": 13,
   "metadata": {},
   "outputs": [
    {
     "name": "stdout",
     "output_type": "stream",
     "text": [
      "Number of bins required in Next Fit : 13\n"
     ]
    }
   ],
   "source": [
    "def nextfit(weight, c):\n",
    "    res = 0\n",
    "    rem = c\n",
    "    for _ in range(len(weight)):\n",
    "        if rem >= weight[_]:\n",
    "            rem = rem - weight[_]\n",
    "        else:\n",
    "            res += 1\n",
    "            rem = c - weight[_]\n",
    "    return res\n",
    " \n",
    "# Driver Code\n",
    "weight = [100, 100, 100, 100, 100, 100, 99, 99, 99, 99, 99, 99, 99, 99, 98, 98, 98, 98, 98, 98, 98, 98, 98, 98, 97, 97, 97, 97, 97, 97, 97, 97, 97, 97, 96, 96, 95, 95, 91, 71]\n",
    "c = 300\n",
    " \n",
    "print(\"Number of bins required in Next Fit :\",\n",
    "                           nextfit(weight, c))"
   ]
  },
  {
   "cell_type": "code",
   "execution_count": null,
   "metadata": {},
   "outputs": [],
   "source": []
  }
 ],
 "metadata": {
  "kernelspec": {
   "display_name": "Python 3",
   "language": "python",
   "name": "python3"
  },
  "language_info": {
   "codemirror_mode": {
    "name": "ipython",
    "version": 3
   },
   "file_extension": ".py",
   "mimetype": "text/x-python",
   "name": "python",
   "nbconvert_exporter": "python",
   "pygments_lexer": "ipython3",
   "version": "3.8.5"
  }
 },
 "nbformat": 4,
 "nbformat_minor": 4
}
