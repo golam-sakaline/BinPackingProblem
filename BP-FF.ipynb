{
 "cells": [
  {
   "cell_type": "code",
   "execution_count": 1,
   "metadata": {},
   "outputs": [],
   "source": [
    "class Bin:\n",
    "\tdef __init__(self):\n",
    "\t\tself.list = []\n",
    "\n",
    "\tdef addItem(self, item):\n",
    "\t\tself.list.append(item)\n",
    "\n",
    "\tdef removeItem(self, item):\n",
    "\t\tself.list.remove(item)\n",
    "\n",
    "\tdef sum(self):\n",
    "\t\ttotal = 0\n",
    "\t\tfor elem in self.list:\n",
    "\t\t\ttotal += elem\n",
    "\t\treturn total\n",
    "\n",
    "\tdef show(self):\n",
    "\t\treturn self.list"
   ]
  },
  {
   "cell_type": "code",
   "execution_count": 2,
   "metadata": {},
   "outputs": [],
   "source": [
    "def first_fit(list_items, max_size):\n",
    "\t\"\"\" Returns list of bins with input items inside. \"\"\"\n",
    "\tlist_bins = []\n",
    "\tlist_bins.append(Bin()) # Add first empty bin to list\n",
    "\n",
    "\tfor item in list_items:\n",
    "\t\t# Go through bins and try to allocate\n",
    "\t\talloc_flag = False\n",
    "\n",
    "\t\tfor bin in list_bins:\n",
    "\t\t\tif bin.sum() + item <= max_size:\n",
    "\t\t\t\tbin.addItem(item)\n",
    "\t\t\t\talloc_flag = True\n",
    "\t\t\t\tbreak\n",
    "\t\t\n",
    "\t\t# If item not allocated in bins in list, create new bin\n",
    "\t\t# and allocate it to it.\n",
    "\t\tif alloc_flag == False:\n",
    "\t\t\tnewBin = Bin()\n",
    "\t\t\tnewBin.addItem(item)\n",
    "\t\t\tlist_bins.append(newBin)\n",
    "\n",
    "\t# Turn bins into list of items and return\n",
    "\tlist_items = []\n",
    "\tfor bin in list_bins:\n",
    "\t\tlist_items.append(bin.show())\n",
    "\n",
    "\treturn(list_items)"
   ]
  },
  {
   "cell_type": "code",
   "execution_count": 3,
   "metadata": {},
   "outputs": [
    {
     "name": "stdout",
     "output_type": "stream",
     "text": [
      "Number of bins required in First Fit : [[100, 100, 100], [100, 100, 100], [99, 99, 99], [99, 99, 99], [99, 99, 98], [98, 98, 98], [98, 98, 98], [98, 98, 98], [97, 97, 97], [97, 97, 97], [97, 97, 97], [97, 96, 96], [95, 95, 91], [71]]\n"
     ]
    }
   ],
   "source": [
    "# Data\n",
    "weight = [100, 100, 100, 100, 100, 100, 99, 99, 99, 99, 99, 99, 99, 99, 98, 98, 98, 98, 98, 98, 98, 98, 98, 98, 97, 97, 97, 97, 97, 97, 97, 97, 97, 97, 96, 96, 95, 95, 91, 71]\n",
    "c = 300\n",
    " \n",
    "print(\"Number of bins required in First Fit :\",\n",
    "                           first_fit(weight, c))"
   ]
  },
  {
   "cell_type": "code",
   "execution_count": null,
   "metadata": {},
   "outputs": [],
   "source": []
  }
 ],
 "metadata": {
  "kernelspec": {
   "display_name": "Python 3",
   "language": "python",
   "name": "python3"
  },
  "language_info": {
   "codemirror_mode": {
    "name": "ipython",
    "version": 3
   },
   "file_extension": ".py",
   "mimetype": "text/x-python",
   "name": "python",
   "nbconvert_exporter": "python",
   "pygments_lexer": "ipython3",
   "version": "3.8.5"
  }
 },
 "nbformat": 4,
 "nbformat_minor": 4
}
